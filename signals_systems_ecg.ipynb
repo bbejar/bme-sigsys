{
 "cells": [
  {
   "cell_type": "markdown",
   "metadata": {},
   "source": [
    "# Heart rate estimation via Template Matching\n",
    "In this session you will see a practical example of a linear systems modeling approach towards the estimation of the heart rate using a very simple pattern recognition technique called **Template Matching**.\n",
    "\n",
    "### Modeling assumptions\n",
    "We will model our acquisition device (e.g., ECG measurement device) as a linear shift invariant system with a given impulse response as illustrated below:\n",
    "\n",
    "![](ecg_signal_generation_model.png)\n",
    "\n",
    "### Signal generation\n",
    "\n",
    "* **Signal Generation -** We are going to create a synthetic EGC signal that we will be using to test our detector algorithm. For that purpose generate a stream of $5$ equally spaced pulses over a time span of $5\\ s$ and with a sampling rate of $f_s = 512\\ Hz$. You can think of the signal as the convolution of a canonical pulse shape $h(t)$ with a stream of Dirac delta functions: \n",
    "\n",
    "   $$y(t) = \\sum_{k=1}^K a_k\\, h(t-t_k) = h(t) \\ast \\underbrace{\\sum_{k=1}^K a_k\\, \\delta(t-t_k)}_{x(t)},$$ \n",
    "\n",
    "   where $K$ is the number of pulses observed, $a_k$ represent the amplitudes of the different pulses and $t_k$ correspond to the locations of the pulses in time. You can generate the canonical pulse shape using the `ecg_wave()` function.\n"
   ]
  },
  {
   "cell_type": "code",
   "execution_count": null,
   "metadata": {},
   "outputs": [],
   "source": [
    "# ============================================================================\n",
    "# import modules\n",
    "# ============================================================================\n",
    "# Note that this part of the code needs to be run prior to any other code cell\n",
    "\n",
    "import numpy as np\n",
    "import json\n",
    "import matplotlib.pyplot as plt\n",
    "import seaborn as sns\n",
    "from scipy import signal\n",
    "\n",
    "# inline plots\n",
    "%matplotlib inline\n",
    "sns.set()\n",
    "\n",
    "# ============================================================================\n",
    "# functions\n",
    "# ============================================================================\n",
    "def ecg_wave(fs):\n",
    "    \"\"\"\n",
    "    This function generates a synthetic ECG template sampled with a sampling frequency fs.\n",
    "\n",
    "    \"\"\"\n",
    "        \n",
    "    # sample uniformly\n",
    "    x = np.arange(fs)/fs\n",
    "    \n",
    "    # compute signal (superposition of splines)\n",
    "    ecg = 0.3 * signal.bspline(3*3*x-7.5,2)\\\n",
    "        + 0.15* signal.bspline(3*4*x-2,3)\\\n",
    "        + signal.bspline(3*2*2*x-6,1) - 0.2 * signal.bspline(3*4*x-5,1) - 0.4 * signal.bspline(3*4*x-7,1)\n",
    "        \n",
    "    # temporal scaling so that is spans 1/4 seconds\n",
    "    return ecg[::4]"
   ]
  },
  {
   "cell_type": "code",
   "execution_count": null,
   "metadata": {},
   "outputs": [],
   "source": []
  },
  {
   "cell_type": "markdown",
   "metadata": {},
   "source": [
    "* **Simulate Noise -** Generate a noisy version of the synthetic ECG signal generated before by adding Gaussian noise with standard deviation $\\sigma=0.3$. Plot the noisy observations. Can you identify the locations of the QRS-complex?"
   ]
  },
  {
   "cell_type": "code",
   "execution_count": null,
   "metadata": {},
   "outputs": [],
   "source": []
  },
  {
   "cell_type": "markdown",
   "metadata": {
    "collapsed": true
   },
   "source": [
    "### QRS-complex detection via Template Matching\n",
    "The goal is to identify the locations of the QRS-complexes in the noisy signal using a template matching approach. That will allow us to estimate the heart rate even in the presence of noise. For that purpose do:\n",
    "\n",
    "* **Template Matching -** Correlate your noisy observation with the template.\n",
    "* **Noramilize -** Normalize the signal in the range $[0,1]$ for thresholding purposes using the provided function `normalize_range`.\n",
    "* **Find Peaks -** Define a threshold value in $[0,1]$ and keep only those values of the signal that are above the given threshold. Once you have done that, perform a non-maximum suppression (i.e., keep a value if it is greater than the previous and following values). To implement the thresholding and non-maximum suppression operations you can use `signal.find_peaks` function."
   ]
  },
  {
   "cell_type": "code",
   "execution_count": null,
   "metadata": {},
   "outputs": [],
   "source": [
    "def normalize_range(x):\n",
    "    \"\"\"\n",
    "    Normalizes the signal such that its minimum value is 0 and its maximum value is 1,\n",
    "    provided the signal is not identically zero.\n",
    "    \"\"\"\n",
    "    # check that there are non-zero elements\n",
    "    if np.any(x):\n",
    "        \n",
    "        # subtract minimum\n",
    "        minx = np.min(x)\n",
    "        z = x - minx\n",
    "        \n",
    "        # divide by max value\n",
    "        maxz = np.max(z)\n",
    "        return z/maxz\n",
    "    \n",
    "    else:\n",
    "        \n",
    "        return x\n"
   ]
  },
  {
   "cell_type": "code",
   "execution_count": null,
   "metadata": {},
   "outputs": [],
   "source": []
  },
  {
   "cell_type": "markdown",
   "metadata": {},
   "source": [
    "* **RR Intervals -** Plot the original (synthetic) ECG signal as well as the locations of the peaks to verify your method. Keep in mind to compensate for any delay you might have introduced by filtering. From the peak binary signal, estimate the $RR$ interval sequence $r_n$ and its average value as:\n",
    "\n",
    "$$ \\bar R = \\frac{1}{N}\\sum_{n=0}^N r_n, $$\n",
    "\n",
    "where $N$ is the number of peaks detected. Provide an estimate of the average heart beat rate in beats per minute $[bpm]$.\n"
   ]
  },
  {
   "cell_type": "code",
   "execution_count": null,
   "metadata": {},
   "outputs": [],
   "source": []
  }
 ],
 "metadata": {
  "kernelspec": {
   "display_name": "Python 3",
   "language": "python",
   "name": "python3"
  },
  "language_info": {
   "codemirror_mode": {
    "name": "ipython",
    "version": 3
   },
   "file_extension": ".py",
   "mimetype": "text/x-python",
   "name": "python",
   "nbconvert_exporter": "python",
   "pygments_lexer": "ipython3",
   "version": "3.6.8"
  }
 },
 "nbformat": 4,
 "nbformat_minor": 2
}
